{
 "cells": [
  {
   "cell_type": "markdown",
   "id": "63953bc4-dbbe-4405-955d-79769d0998ef",
   "metadata": {},
   "source": [
    "# Q1.\n",
    "### What is Bayes' theorem?"
   ]
  },
  {
   "cell_type": "markdown",
   "id": "64d0c237-97a7-4532-aa9a-e1ea7f1c1cbc",
   "metadata": {},
   "source": [
    "- Bayes' theorem is a fundamental theorem in probability theory that describes how to update the probability of a hypothesis  based on new evidence or information.Bayes' theorem is widely used in statistics, machine learning, and various other fields."
   ]
  },
  {
   "cell_type": "markdown",
   "id": "613f1a63-ccb5-4127-ae0e-416d7c171aa0",
   "metadata": {},
   "source": [
    "# Q2.\n",
    "### What is the formula for Bayes' theorem?"
   ]
  },
  {
   "cell_type": "markdown",
   "id": "ba5029ac-fdf6-4ba7-b2dc-7ab5c84bf8ad",
   "metadata": {},
   "source": [
    "P(A|B) = (P(A) * P(B|A)) / P(B)"
   ]
  },
  {
   "cell_type": "markdown",
   "id": "9b48c9c4-7c21-4123-a169-d8a657e144d4",
   "metadata": {},
   "source": [
    "# Q3.\n",
    "###  How is Bayes' theorem used in practice?"
   ]
  },
  {
   "cell_type": "markdown",
   "id": "6d364e6e-0e1e-4396-83dc-8aea7d39cd56",
   "metadata": {},
   "source": [
    "- Spam filtering in emails\n",
    "- Medical Diagnosis\n",
    "- Natural Language processing\n",
    "- Search engines"
   ]
  },
  {
   "cell_type": "markdown",
   "id": "77c1a578-91a0-44bc-a810-258dab403905",
   "metadata": {},
   "source": [
    "# Q4.\n",
    "### What is the relationship between Bayes' theorem and conditional probability?"
   ]
  },
  {
   "cell_type": "markdown",
   "id": "32549bcf-8ac6-4c29-a32d-e585f4f12613",
   "metadata": {},
   "source": [
    "- Bayes' theorem relates the conditional probability of an event occurring given that another event has already occurred to the conditional probability of the latter event occurring given that the former event has occurred."
   ]
  },
  {
   "cell_type": "markdown",
   "id": "5e769c11-985a-4385-b475-d618a64a9a71",
   "metadata": {},
   "source": [
    "# Q5.\n",
    "### How do you choose which type of Naive Bayes classifier to use for any given problem?"
   ]
  },
  {
   "cell_type": "markdown",
   "id": "2e3b8f80-6651-42d5-9c7f-b47dfb0d0721",
   "metadata": {},
   "source": [
    "- Gaussian Naive Bayes: Assumes that features follow a Gaussian (normal) distribution.\n",
    "\n",
    "- Multinomial Naive Bayes: Suitable for features that represent counts or frequencies (e.g., word counts in text classification).\n",
    "\n",
    "- Bernoulli Naive Bayes: Appropriate for binary features (e.g., presence or absence of a feature)."
   ]
  },
  {
   "cell_type": "markdown",
   "id": "e7b59967-e490-4e63-bbb6-572d1d9acd77",
   "metadata": {},
   "source": [
    "# Q6."
   ]
  },
  {
   "cell_type": "markdown",
   "id": "af9348da-0443-4b86-88eb-e5452131ac4b",
   "metadata": {},
   "source": [
    "P(A|X1 = 3 , X2 = 4) = P(X1 = 3|A) * P(X2 = 4|A) * P(A) = 0.06\n",
    "\n",
    "P(B|X1 = 3 , X2 = 4) = P(X1 = 3|B) * P(X2 = 4|B) * P(B) = 0.06\n",
    "\n",
    "- Since both posterior probabilities are equal, the Naive Bayes classifier would predict either class A or class B for the new instance."
   ]
  }
 ],
 "metadata": {
  "kernelspec": {
   "display_name": "Python 3 (ipykernel)",
   "language": "python",
   "name": "python3"
  },
  "language_info": {
   "codemirror_mode": {
    "name": "ipython",
    "version": 3
   },
   "file_extension": ".py",
   "mimetype": "text/x-python",
   "name": "python",
   "nbconvert_exporter": "python",
   "pygments_lexer": "ipython3",
   "version": "3.10.8"
  }
 },
 "nbformat": 4,
 "nbformat_minor": 5
}
